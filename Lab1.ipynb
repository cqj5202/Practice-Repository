{
  "nbformat": 4,
  "nbformat_minor": 0,
  "metadata": {
    "colab": {
      "name": "Lab 1.ipynb",
      "provenance": [],
      "authorship_tag": "ABX9TyOVZvB/xGP8sgkNiHEUpU77",
      "include_colab_link": true
    },
    "kernelspec": {
      "name": "python3",
      "display_name": "Python 3"
    }
  },
  "cells": [
    {
      "cell_type": "markdown",
      "metadata": {
        "id": "view-in-github",
        "colab_type": "text"
      },
      "source": [
        "<a href=\"https://colab.research.google.com/github/cqj5202/Practice-Repository/blob/master/Lab1.ipynb\" target=\"_parent\"><img src=\"https://colab.research.google.com/assets/colab-badge.svg\" alt=\"Open In Colab\"/></a>"
      ]
    },
    {
      "cell_type": "markdown",
      "metadata": {
        "id": "EHxxF1DyfYPz",
        "colab_type": "text"
      },
      "source": [
        "# Do you like using Jupyter Notebooks?\n"
      ]
    },
    {
      "cell_type": "markdown",
      "metadata": {
        "id": "9iz1QTt_oTBX",
        "colab_type": "text"
      },
      "source": [
        "I have never used Jupyter Notebooks before so I do not have an opinion on them. I am confused on the differences between google Colab, Github, and Jupyter notebook as they all seem similar. "
      ]
    },
    {
      "cell_type": "markdown",
      "metadata": {
        "id": "HQf1NACipgP3",
        "colab_type": "text"
      },
      "source": [
        "# What do you want to learn more about in Jupyter Notebooks?"
      ]
    },
    {
      "cell_type": "markdown",
      "metadata": {
        "id": "xHmAyycHp252",
        "colab_type": "text"
      },
      "source": [
        "I would like to better understand how to use Jupyter Notebooks as well as its interaction with the other platforms we will be using like Github and google Colab. I would also like to understand the differences between these platforms so I know where to go to complete different assignments. "
      ]
    },
    {
      "cell_type": "markdown",
      "metadata": {
        "id": "cQYJ0-bvwwnX",
        "colab_type": "text"
      },
      "source": [
        "\n",
        "![Dancing Bunnies](https://raw.githubusercontent.com/cqj5202/Practice-Repository/master/images/Image%20lab%201.jpg)\n"
      ]
    }
  ]
}